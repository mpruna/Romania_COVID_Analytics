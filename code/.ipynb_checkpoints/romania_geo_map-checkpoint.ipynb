{
 "cells": [
  {
   "cell_type": "code",
   "execution_count": 4,
   "metadata": {},
   "outputs": [],
   "source": [
    "import pandas as pd\n",
    "import numpy as np\n",
    "import geopandas as gdf\n",
    "import json\n",
    "import matplotlib.pyplot as plt\n",
    "import os\n",
    "import plotly.express as px\n",
    "\n",
    "import warnings\n",
    "warnings.filterwarnings('ignore')"
   ]
  },
  {
   "cell_type": "code",
   "execution_count": 5,
   "metadata": {},
   "outputs": [],
   "source": [
    "import plotly.graph_objects as go\n",
    "import plotly.figure_factory as ff"
   ]
  },
  {
   "cell_type": "code",
   "execution_count": 6,
   "metadata": {},
   "outputs": [],
   "source": [
    "gdf.crs=\"EPSG:31700\""
   ]
  },
  {
   "cell_type": "code",
   "execution_count": 7,
   "metadata": {},
   "outputs": [],
   "source": [
    "import folium\n",
    "from folium import Choropleth, Circle, Marker\n",
    "from folium.plugins import HeatMap, MarkerCluster"
   ]
  },
  {
   "cell_type": "code",
   "execution_count": 8,
   "metadata": {},
   "outputs": [
    {
     "name": "stdout",
     "output_type": "stream",
     "text": [
      "getCasesByCounty\n",
      "getHealthCasesByCounty\n",
      "getDeadCasesByCounty\n",
      "  county_code  total_county  total_healed  total_dead            county\n",
      "0          SV          2692             4         156           SUCEAVA\n",
      "1          NA          1234             0           0  JUDEȚ NECUNOSCUT\n",
      "2           B          1063             3          59         BUCUREȘTI\n",
      "3          HD           520             3          58         HUNEDOARA\n",
      "4          AR           511             1          67              ARAD \n",
      "\n",
      "  county_code  total_county         county\n",
      "0          DB             6      DÂMBOVIȚA\n",
      "1          SV             4        SUCEAVA\n",
      "2          CS             4  CARAȘ-SEVERIN\n",
      "3          TM             4          TIMIȘ\n",
      "4           B             3      BUCUREȘTI \n",
      "\n",
      "  county_code  total_county     county\n",
      "0          SV           156    SUCEAVA\n",
      "1          AR            67       ARAD\n",
      "2          GL            61     GALAȚI\n",
      "3           B            59  BUCUREȘTI\n",
      "4          HD            58  HUNEDOARA \n",
      "\n"
     ]
    }
   ],
   "source": [
    "home_path=\"/home/Github/COVID-19_Interactive/infra_code/\"\n",
    "file_list=[]\n",
    "for file in os.listdir(home_path):\n",
    "    if \"ByCounty\" in file:\n",
    "        print(file)\n",
    "        file_list.append(file)\n",
    "\n",
    "df_list=[]\n",
    "for f in file_list:\n",
    "    d=os.path.join(home_path,f)\n",
    "    d_dict=pd.read_json(d)['data'][0]\n",
    "    df=pd.DataFrame(d_dict)\n",
    "    df_list.append(df)\n",
    "\n",
    "df1,df2,df3=df_list[0],df_list[1],df_list[2]\n",
    "for d in df_list:\n",
    "    print(d.head(),\"\\n\")"
   ]
  },
  {
   "cell_type": "markdown",
   "metadata": {},
   "source": [
    "### Load json ref:\n",
    "\n",
    "\n",
    "https://stackoverflow.com/questions/49505872/read-json-to-pandas-dataframe-valueerror-mixing-dicts-with-non-series-may-lea#49505918"
   ]
  },
  {
   "cell_type": "code",
   "execution_count": 9,
   "metadata": {},
   "outputs": [],
   "source": [
    "world=gdf.read_file(gdf.datasets.get_path('naturalearth_lowres'))\n",
    "ro_bound=world[world['name']=='Romania']"
   ]
  },
  {
   "cell_type": "code",
   "execution_count": 10,
   "metadata": {},
   "outputs": [
    {
     "data": {
      "text/html": [
       "<div>\n",
       "<style scoped>\n",
       "    .dataframe tbody tr th:only-of-type {\n",
       "        vertical-align: middle;\n",
       "    }\n",
       "\n",
       "    .dataframe tbody tr th {\n",
       "        vertical-align: top;\n",
       "    }\n",
       "\n",
       "    .dataframe thead th {\n",
       "        text-align: right;\n",
       "    }\n",
       "</style>\n",
       "<table border=\"1\" class=\"dataframe\">\n",
       "  <thead>\n",
       "    <tr style=\"text-align: right;\">\n",
       "      <th></th>\n",
       "      <th>id</th>\n",
       "      <th>ID_0</th>\n",
       "      <th>ISO</th>\n",
       "      <th>NAME_0</th>\n",
       "      <th>ID_1</th>\n",
       "      <th>NAME_1</th>\n",
       "      <th>TYPE_1</th>\n",
       "      <th>ENGTYPE_1</th>\n",
       "      <th>NL_NAME_1</th>\n",
       "      <th>VARNAME_1</th>\n",
       "      <th>geometry</th>\n",
       "    </tr>\n",
       "  </thead>\n",
       "  <tbody>\n",
       "    <tr>\n",
       "      <th>0</th>\n",
       "      <td>None</td>\n",
       "      <td>187</td>\n",
       "      <td>ROU</td>\n",
       "      <td>Romania</td>\n",
       "      <td>1</td>\n",
       "      <td>ALBA</td>\n",
       "      <td>Judet</td>\n",
       "      <td>County</td>\n",
       "      <td></td>\n",
       "      <td></td>\n",
       "      <td>POLYGON ((23.98685 46.43134, 24.00062 46.42857...</td>\n",
       "    </tr>\n",
       "    <tr>\n",
       "      <th>1</th>\n",
       "      <td>None</td>\n",
       "      <td>187</td>\n",
       "      <td>ROU</td>\n",
       "      <td>Romania</td>\n",
       "      <td>2</td>\n",
       "      <td>ARAD</td>\n",
       "      <td>Judet</td>\n",
       "      <td>County</td>\n",
       "      <td></td>\n",
       "      <td></td>\n",
       "      <td>POLYGON ((22.67806 46.40624, 22.68364 46.38616...</td>\n",
       "    </tr>\n",
       "    <tr>\n",
       "      <th>2</th>\n",
       "      <td>None</td>\n",
       "      <td>187</td>\n",
       "      <td>ROU</td>\n",
       "      <td>Romania</td>\n",
       "      <td>3</td>\n",
       "      <td>ARGEȘ</td>\n",
       "      <td>Judet</td>\n",
       "      <td>County</td>\n",
       "      <td></td>\n",
       "      <td>Arges</td>\n",
       "      <td>POLYGON ((25.32318 45.38138, 25.31835 45.37009...</td>\n",
       "    </tr>\n",
       "    <tr>\n",
       "      <th>3</th>\n",
       "      <td>None</td>\n",
       "      <td>187</td>\n",
       "      <td>ROU</td>\n",
       "      <td>Romania</td>\n",
       "      <td>4</td>\n",
       "      <td>BACĂU</td>\n",
       "      <td>Judet</td>\n",
       "      <td>County</td>\n",
       "      <td></td>\n",
       "      <td>Bacau</td>\n",
       "      <td>POLYGON ((27.20767 46.77019, 27.21251 46.76116...</td>\n",
       "    </tr>\n",
       "    <tr>\n",
       "      <th>4</th>\n",
       "      <td>None</td>\n",
       "      <td>187</td>\n",
       "      <td>ROU</td>\n",
       "      <td>Romania</td>\n",
       "      <td>5</td>\n",
       "      <td>BIHOR</td>\n",
       "      <td>Judet</td>\n",
       "      <td>County</td>\n",
       "      <td></td>\n",
       "      <td></td>\n",
       "      <td>POLYGON ((22.61443 47.33495, 22.57944 47.30558...</td>\n",
       "    </tr>\n",
       "  </tbody>\n",
       "</table>\n",
       "</div>"
      ],
      "text/plain": [
       "     id  ID_0  ISO   NAME_0  ID_1 NAME_1 TYPE_1 ENGTYPE_1 NL_NAME_1 VARNAME_1  \\\n",
       "0  None   187  ROU  Romania     1   ALBA  Judet    County                       \n",
       "1  None   187  ROU  Romania     2   ARAD  Judet    County                       \n",
       "2  None   187  ROU  Romania     3  ARGEȘ  Judet    County               Arges   \n",
       "3  None   187  ROU  Romania     4  BACĂU  Judet    County               Bacau   \n",
       "4  None   187  ROU  Romania     5  BIHOR  Judet    County                       \n",
       "\n",
       "                                            geometry  \n",
       "0  POLYGON ((23.98685 46.43134, 24.00062 46.42857...  \n",
       "1  POLYGON ((22.67806 46.40624, 22.68364 46.38616...  \n",
       "2  POLYGON ((25.32318 45.38138, 25.31835 45.37009...  \n",
       "3  POLYGON ((27.20767 46.77019, 27.21251 46.76116...  \n",
       "4  POLYGON ((22.61443 47.33495, 22.57944 47.30558...  "
      ]
     },
     "execution_count": 10,
     "metadata": {},
     "output_type": "execute_result"
    }
   ],
   "source": [
    "ro_map1=gdf.read_file('romania-counties.json')\n",
    "ro_map1['NAME_1']=ro_map1['NAME_1'].str.upper()\n",
    "ro_map1['NAME_1'].replace({\"BUCHAREST\":\"BUCUREȘTI\"},inplace=True)\n",
    "ro_map1.head()"
   ]
  },
  {
   "cell_type": "code",
   "execution_count": 11,
   "metadata": {},
   "outputs": [
    {
     "data": {
      "text/html": [
       "<div>\n",
       "<style scoped>\n",
       "    .dataframe tbody tr th:only-of-type {\n",
       "        vertical-align: middle;\n",
       "    }\n",
       "\n",
       "    .dataframe tbody tr th {\n",
       "        vertical-align: top;\n",
       "    }\n",
       "\n",
       "    .dataframe thead th {\n",
       "        text-align: right;\n",
       "    }\n",
       "</style>\n",
       "<table border=\"1\" class=\"dataframe\">\n",
       "  <thead>\n",
       "    <tr style=\"text-align: right;\">\n",
       "      <th></th>\n",
       "      <th>ID_0</th>\n",
       "      <th>ISO</th>\n",
       "      <th>NAME_0</th>\n",
       "      <th>ID_1</th>\n",
       "      <th>NAME_1</th>\n",
       "      <th>TYPE_1</th>\n",
       "      <th>ENGTYPE_1</th>\n",
       "      <th>geometry</th>\n",
       "    </tr>\n",
       "  </thead>\n",
       "  <tbody>\n",
       "    <tr>\n",
       "      <th>0</th>\n",
       "      <td>187</td>\n",
       "      <td>ROU</td>\n",
       "      <td>Romania</td>\n",
       "      <td>1</td>\n",
       "      <td>ALBA</td>\n",
       "      <td>Judet</td>\n",
       "      <td>County</td>\n",
       "      <td>POLYGON ((23.98685 46.43134, 24.00062 46.42857...</td>\n",
       "    </tr>\n",
       "    <tr>\n",
       "      <th>1</th>\n",
       "      <td>187</td>\n",
       "      <td>ROU</td>\n",
       "      <td>Romania</td>\n",
       "      <td>2</td>\n",
       "      <td>ARAD</td>\n",
       "      <td>Judet</td>\n",
       "      <td>County</td>\n",
       "      <td>POLYGON ((22.67806 46.40624, 22.68364 46.38616...</td>\n",
       "    </tr>\n",
       "    <tr>\n",
       "      <th>2</th>\n",
       "      <td>187</td>\n",
       "      <td>ROU</td>\n",
       "      <td>Romania</td>\n",
       "      <td>3</td>\n",
       "      <td>ARGEȘ</td>\n",
       "      <td>Judet</td>\n",
       "      <td>County</td>\n",
       "      <td>POLYGON ((25.32318 45.38138, 25.31835 45.37009...</td>\n",
       "    </tr>\n",
       "    <tr>\n",
       "      <th>3</th>\n",
       "      <td>187</td>\n",
       "      <td>ROU</td>\n",
       "      <td>Romania</td>\n",
       "      <td>4</td>\n",
       "      <td>BACĂU</td>\n",
       "      <td>Judet</td>\n",
       "      <td>County</td>\n",
       "      <td>POLYGON ((27.20767 46.77019, 27.21251 46.76116...</td>\n",
       "    </tr>\n",
       "    <tr>\n",
       "      <th>4</th>\n",
       "      <td>187</td>\n",
       "      <td>ROU</td>\n",
       "      <td>Romania</td>\n",
       "      <td>5</td>\n",
       "      <td>BIHOR</td>\n",
       "      <td>Judet</td>\n",
       "      <td>County</td>\n",
       "      <td>POLYGON ((22.61443 47.33495, 22.57944 47.30558...</td>\n",
       "    </tr>\n",
       "  </tbody>\n",
       "</table>\n",
       "</div>"
      ],
      "text/plain": [
       "   ID_0  ISO   NAME_0  ID_1 NAME_1 TYPE_1 ENGTYPE_1  \\\n",
       "0   187  ROU  Romania     1   ALBA  Judet    County   \n",
       "1   187  ROU  Romania     2   ARAD  Judet    County   \n",
       "2   187  ROU  Romania     3  ARGEȘ  Judet    County   \n",
       "3   187  ROU  Romania     4  BACĂU  Judet    County   \n",
       "4   187  ROU  Romania     5  BIHOR  Judet    County   \n",
       "\n",
       "                                            geometry  \n",
       "0  POLYGON ((23.98685 46.43134, 24.00062 46.42857...  \n",
       "1  POLYGON ((22.67806 46.40624, 22.68364 46.38616...  \n",
       "2  POLYGON ((25.32318 45.38138, 25.31835 45.37009...  \n",
       "3  POLYGON ((27.20767 46.77019, 27.21251 46.76116...  \n",
       "4  POLYGON ((22.61443 47.33495, 22.57944 47.30558...  "
      ]
     },
     "execution_count": 11,
     "metadata": {},
     "output_type": "execute_result"
    }
   ],
   "source": [
    "ro_map1.drop(columns=['id','NL_NAME_1','VARNAME_1'],inplace=True)\n",
    "ro_map1.head()"
   ]
  },
  {
   "cell_type": "code",
   "execution_count": 12,
   "metadata": {},
   "outputs": [
    {
     "data": {
      "text/html": [
       "<div>\n",
       "<style scoped>\n",
       "    .dataframe tbody tr th:only-of-type {\n",
       "        vertical-align: middle;\n",
       "    }\n",
       "\n",
       "    .dataframe tbody tr th {\n",
       "        vertical-align: top;\n",
       "    }\n",
       "\n",
       "    .dataframe thead th {\n",
       "        text-align: right;\n",
       "    }\n",
       "</style>\n",
       "<table border=\"1\" class=\"dataframe\">\n",
       "  <thead>\n",
       "    <tr style=\"text-align: right;\">\n",
       "      <th></th>\n",
       "      <th>ID_0</th>\n",
       "      <th>ISO</th>\n",
       "      <th>NAME_0</th>\n",
       "      <th>ID_1</th>\n",
       "      <th>NAME_1</th>\n",
       "      <th>TYPE_1</th>\n",
       "      <th>ENGTYPE_1</th>\n",
       "      <th>geometry</th>\n",
       "      <th>county_code</th>\n",
       "      <th>total_county</th>\n",
       "      <th>total_healed</th>\n",
       "      <th>total_dead</th>\n",
       "      <th>county</th>\n",
       "    </tr>\n",
       "  </thead>\n",
       "  <tbody>\n",
       "    <tr>\n",
       "      <th>0</th>\n",
       "      <td>187</td>\n",
       "      <td>ROU</td>\n",
       "      <td>Romania</td>\n",
       "      <td>1</td>\n",
       "      <td>ALBA</td>\n",
       "      <td>Judet</td>\n",
       "      <td>County</td>\n",
       "      <td>POLYGON ((23.98685 46.43134, 24.00062 46.42857...</td>\n",
       "      <td>AB</td>\n",
       "      <td>247</td>\n",
       "      <td>3</td>\n",
       "      <td>11</td>\n",
       "      <td>ALBA</td>\n",
       "    </tr>\n",
       "    <tr>\n",
       "      <th>1</th>\n",
       "      <td>187</td>\n",
       "      <td>ROU</td>\n",
       "      <td>Romania</td>\n",
       "      <td>2</td>\n",
       "      <td>ARAD</td>\n",
       "      <td>Judet</td>\n",
       "      <td>County</td>\n",
       "      <td>POLYGON ((22.67806 46.40624, 22.68364 46.38616...</td>\n",
       "      <td>AR</td>\n",
       "      <td>511</td>\n",
       "      <td>1</td>\n",
       "      <td>67</td>\n",
       "      <td>ARAD</td>\n",
       "    </tr>\n",
       "    <tr>\n",
       "      <th>2</th>\n",
       "      <td>187</td>\n",
       "      <td>ROU</td>\n",
       "      <td>Romania</td>\n",
       "      <td>3</td>\n",
       "      <td>ARGEȘ</td>\n",
       "      <td>Judet</td>\n",
       "      <td>County</td>\n",
       "      <td>POLYGON ((25.32318 45.38138, 25.31835 45.37009...</td>\n",
       "      <td>AG</td>\n",
       "      <td>204</td>\n",
       "      <td>0</td>\n",
       "      <td>13</td>\n",
       "      <td>ARGEȘ</td>\n",
       "    </tr>\n",
       "    <tr>\n",
       "      <th>3</th>\n",
       "      <td>187</td>\n",
       "      <td>ROU</td>\n",
       "      <td>Romania</td>\n",
       "      <td>4</td>\n",
       "      <td>BACĂU</td>\n",
       "      <td>Judet</td>\n",
       "      <td>County</td>\n",
       "      <td>POLYGON ((27.20767 46.77019, 27.21251 46.76116...</td>\n",
       "      <td>BC</td>\n",
       "      <td>315</td>\n",
       "      <td>0</td>\n",
       "      <td>30</td>\n",
       "      <td>BACĂU</td>\n",
       "    </tr>\n",
       "    <tr>\n",
       "      <th>4</th>\n",
       "      <td>187</td>\n",
       "      <td>ROU</td>\n",
       "      <td>Romania</td>\n",
       "      <td>5</td>\n",
       "      <td>BIHOR</td>\n",
       "      <td>Judet</td>\n",
       "      <td>County</td>\n",
       "      <td>POLYGON ((22.61443 47.33495, 22.57944 47.30558...</td>\n",
       "      <td>BH</td>\n",
       "      <td>468</td>\n",
       "      <td>0</td>\n",
       "      <td>15</td>\n",
       "      <td>BIHOR</td>\n",
       "    </tr>\n",
       "  </tbody>\n",
       "</table>\n",
       "</div>"
      ],
      "text/plain": [
       "   ID_0  ISO   NAME_0  ID_1 NAME_1 TYPE_1 ENGTYPE_1  \\\n",
       "0   187  ROU  Romania     1   ALBA  Judet    County   \n",
       "1   187  ROU  Romania     2   ARAD  Judet    County   \n",
       "2   187  ROU  Romania     3  ARGEȘ  Judet    County   \n",
       "3   187  ROU  Romania     4  BACĂU  Judet    County   \n",
       "4   187  ROU  Romania     5  BIHOR  Judet    County   \n",
       "\n",
       "                                            geometry county_code  \\\n",
       "0  POLYGON ((23.98685 46.43134, 24.00062 46.42857...          AB   \n",
       "1  POLYGON ((22.67806 46.40624, 22.68364 46.38616...          AR   \n",
       "2  POLYGON ((25.32318 45.38138, 25.31835 45.37009...          AG   \n",
       "3  POLYGON ((27.20767 46.77019, 27.21251 46.76116...          BC   \n",
       "4  POLYGON ((22.61443 47.33495, 22.57944 47.30558...          BH   \n",
       "\n",
       "   total_county  total_healed  total_dead county  \n",
       "0           247             3          11   ALBA  \n",
       "1           511             1          67   ARAD  \n",
       "2           204             0          13  ARGEȘ  \n",
       "3           315             0          30  BACĂU  \n",
       "4           468             0          15  BIHOR  "
      ]
     },
     "execution_count": 12,
     "metadata": {},
     "output_type": "execute_result"
    }
   ],
   "source": [
    "total=ro_map1.merge(df1,left_on='NAME_1',right_on=\"county\")\n",
    "total.head()"
   ]
  },
  {
   "cell_type": "markdown",
   "metadata": {},
   "source": [
    "### Geojson wrangling"
   ]
  },
  {
   "cell_type": "code",
   "execution_count": 13,
   "metadata": {},
   "outputs": [
    {
     "data": {
      "text/html": [
       "<div>\n",
       "<style scoped>\n",
       "    .dataframe tbody tr th:only-of-type {\n",
       "        vertical-align: middle;\n",
       "    }\n",
       "\n",
       "    .dataframe tbody tr th {\n",
       "        vertical-align: top;\n",
       "    }\n",
       "\n",
       "    .dataframe thead th {\n",
       "        text-align: right;\n",
       "    }\n",
       "</style>\n",
       "<table border=\"1\" class=\"dataframe\">\n",
       "  <thead>\n",
       "    <tr style=\"text-align: right;\">\n",
       "      <th></th>\n",
       "      <th>ID_0</th>\n",
       "      <th>ISO</th>\n",
       "      <th>NAME_0</th>\n",
       "      <th>ID_1</th>\n",
       "      <th>NAME_1</th>\n",
       "      <th>TYPE_1</th>\n",
       "      <th>ENGTYPE_1</th>\n",
       "      <th>geometry</th>\n",
       "      <th>county_code</th>\n",
       "    </tr>\n",
       "  </thead>\n",
       "  <tbody>\n",
       "    <tr>\n",
       "      <th>0</th>\n",
       "      <td>187</td>\n",
       "      <td>ROU</td>\n",
       "      <td>Romania</td>\n",
       "      <td>1</td>\n",
       "      <td>ALBA</td>\n",
       "      <td>Judet</td>\n",
       "      <td>County</td>\n",
       "      <td>POLYGON ((23.98685 46.43134, 24.00062 46.42857...</td>\n",
       "      <td>AB</td>\n",
       "    </tr>\n",
       "    <tr>\n",
       "      <th>1</th>\n",
       "      <td>187</td>\n",
       "      <td>ROU</td>\n",
       "      <td>Romania</td>\n",
       "      <td>2</td>\n",
       "      <td>ARAD</td>\n",
       "      <td>Judet</td>\n",
       "      <td>County</td>\n",
       "      <td>POLYGON ((22.67806 46.40624, 22.68364 46.38616...</td>\n",
       "      <td>AR</td>\n",
       "    </tr>\n",
       "    <tr>\n",
       "      <th>2</th>\n",
       "      <td>187</td>\n",
       "      <td>ROU</td>\n",
       "      <td>Romania</td>\n",
       "      <td>3</td>\n",
       "      <td>ARGEȘ</td>\n",
       "      <td>Judet</td>\n",
       "      <td>County</td>\n",
       "      <td>POLYGON ((25.32318 45.38138, 25.31835 45.37009...</td>\n",
       "      <td>AG</td>\n",
       "    </tr>\n",
       "    <tr>\n",
       "      <th>3</th>\n",
       "      <td>187</td>\n",
       "      <td>ROU</td>\n",
       "      <td>Romania</td>\n",
       "      <td>4</td>\n",
       "      <td>BACĂU</td>\n",
       "      <td>Judet</td>\n",
       "      <td>County</td>\n",
       "      <td>POLYGON ((27.20767 46.77019, 27.21251 46.76116...</td>\n",
       "      <td>BC</td>\n",
       "    </tr>\n",
       "    <tr>\n",
       "      <th>4</th>\n",
       "      <td>187</td>\n",
       "      <td>ROU</td>\n",
       "      <td>Romania</td>\n",
       "      <td>5</td>\n",
       "      <td>BIHOR</td>\n",
       "      <td>Judet</td>\n",
       "      <td>County</td>\n",
       "      <td>POLYGON ((22.61443 47.33495, 22.57944 47.30558...</td>\n",
       "      <td>BH</td>\n",
       "    </tr>\n",
       "  </tbody>\n",
       "</table>\n",
       "</div>"
      ],
      "text/plain": [
       "   ID_0  ISO   NAME_0  ID_1 NAME_1 TYPE_1 ENGTYPE_1  \\\n",
       "0   187  ROU  Romania     1   ALBA  Judet    County   \n",
       "1   187  ROU  Romania     2   ARAD  Judet    County   \n",
       "2   187  ROU  Romania     3  ARGEȘ  Judet    County   \n",
       "3   187  ROU  Romania     4  BACĂU  Judet    County   \n",
       "4   187  ROU  Romania     5  BIHOR  Judet    County   \n",
       "\n",
       "                                            geometry county_code  \n",
       "0  POLYGON ((23.98685 46.43134, 24.00062 46.42857...          AB  \n",
       "1  POLYGON ((22.67806 46.40624, 22.68364 46.38616...          AR  \n",
       "2  POLYGON ((25.32318 45.38138, 25.31835 45.37009...          AG  \n",
       "3  POLYGON ((27.20767 46.77019, 27.21251 46.76116...          BC  \n",
       "4  POLYGON ((22.61443 47.33495, 22.57944 47.30558...          BH  "
      ]
     },
     "execution_count": 13,
     "metadata": {},
     "output_type": "execute_result"
    }
   ],
   "source": [
    "geojson2=total[total.columns[:9]]\n",
    "geojson2.head()"
   ]
  },
  {
   "cell_type": "code",
   "execution_count": 14,
   "metadata": {},
   "outputs": [],
   "source": [
    "total.drop(columns=['county'],inplace=True)"
   ]
  },
  {
   "cell_type": "code",
   "execution_count": 17,
   "metadata": {},
   "outputs": [],
   "source": [
    "def map_plot(df,col):\n",
    "    colors = 20\n",
    "    cmap = 'Blues'\n",
    "    figsize = (16, 10)\n",
    "    df.plot(figsize=figsize,column=col,cmap=cmap, scheme='quantiles',k=colors,legend=True)\n",
    "    plt.axs('off')"
   ]
  },
  {
   "cell_type": "markdown",
   "metadata": {},
   "source": [
    "### Total county"
   ]
  },
  {
   "cell_type": "code",
   "execution_count": 18,
   "metadata": {},
   "outputs": [
    {
     "ename": "TypeError",
     "evalue": "ufunc 'isfinite' not supported for the input types, and the inputs could not be safely coerced to any supported types according to the casting rule ''safe''",
     "output_type": "error",
     "traceback": [
      "\u001b[0;31m---------------------------------------------------------------------------\u001b[0m",
      "\u001b[0;31mTypeError\u001b[0m                                 Traceback (most recent call last)",
      "\u001b[0;32m<ipython-input-18-c84c5889030a>\u001b[0m in \u001b[0;36m<module>\u001b[0;34m\u001b[0m\n\u001b[0;32m----> 1\u001b[0;31m \u001b[0mmap_plot\u001b[0m\u001b[0;34m(\u001b[0m\u001b[0mdf\u001b[0m\u001b[0;34m=\u001b[0m\u001b[0mtotal\u001b[0m\u001b[0;34m,\u001b[0m\u001b[0mcol\u001b[0m\u001b[0;34m=\u001b[0m\u001b[0;34m'total_county'\u001b[0m\u001b[0;34m)\u001b[0m\u001b[0;34m\u001b[0m\u001b[0;34m\u001b[0m\u001b[0m\n\u001b[0m",
      "\u001b[0;32m<ipython-input-17-3f668ec4877d>\u001b[0m in \u001b[0;36mmap_plot\u001b[0;34m(df, col)\u001b[0m\n\u001b[1;32m      4\u001b[0m     \u001b[0mfigsize\u001b[0m \u001b[0;34m=\u001b[0m \u001b[0;34m(\u001b[0m\u001b[0;36m16\u001b[0m\u001b[0;34m,\u001b[0m \u001b[0;36m10\u001b[0m\u001b[0;34m)\u001b[0m\u001b[0;34m\u001b[0m\u001b[0;34m\u001b[0m\u001b[0m\n\u001b[1;32m      5\u001b[0m     \u001b[0mdf\u001b[0m\u001b[0;34m.\u001b[0m\u001b[0mplot\u001b[0m\u001b[0;34m(\u001b[0m\u001b[0mfigsize\u001b[0m\u001b[0;34m=\u001b[0m\u001b[0mfigsize\u001b[0m\u001b[0;34m,\u001b[0m\u001b[0mcolumn\u001b[0m\u001b[0;34m=\u001b[0m\u001b[0mcol\u001b[0m\u001b[0;34m,\u001b[0m\u001b[0mcmap\u001b[0m\u001b[0;34m=\u001b[0m\u001b[0mcmap\u001b[0m\u001b[0;34m,\u001b[0m \u001b[0mscheme\u001b[0m\u001b[0;34m=\u001b[0m\u001b[0;34m'quantiles'\u001b[0m\u001b[0;34m,\u001b[0m\u001b[0mk\u001b[0m\u001b[0;34m=\u001b[0m\u001b[0mcolors\u001b[0m\u001b[0;34m,\u001b[0m\u001b[0mlegend\u001b[0m\u001b[0;34m=\u001b[0m\u001b[0;32mTrue\u001b[0m\u001b[0;34m)\u001b[0m\u001b[0;34m\u001b[0m\u001b[0;34m\u001b[0m\u001b[0m\n\u001b[0;32m----> 6\u001b[0;31m     \u001b[0mplt\u001b[0m\u001b[0;34m.\u001b[0m\u001b[0maxes\u001b[0m\u001b[0;34m(\u001b[0m\u001b[0;34m'off'\u001b[0m\u001b[0;34m)\u001b[0m\u001b[0;34m\u001b[0m\u001b[0;34m\u001b[0m\u001b[0m\n\u001b[0m",
      "\u001b[0;32m/home/anaconda3/envs/py37_covidenv/lib/python3.7/site-packages/matplotlib/pyplot.py\u001b[0m in \u001b[0;36maxes\u001b[0;34m(arg, **kwargs)\u001b[0m\n\u001b[1;32m    830\u001b[0m         \u001b[0;32mreturn\u001b[0m \u001b[0msubplot\u001b[0m\u001b[0;34m(\u001b[0m\u001b[0;36m111\u001b[0m\u001b[0;34m,\u001b[0m \u001b[0;34m**\u001b[0m\u001b[0mkwargs\u001b[0m\u001b[0;34m)\u001b[0m\u001b[0;34m\u001b[0m\u001b[0;34m\u001b[0m\u001b[0m\n\u001b[1;32m    831\u001b[0m     \u001b[0;32melse\u001b[0m\u001b[0;34m:\u001b[0m\u001b[0;34m\u001b[0m\u001b[0;34m\u001b[0m\u001b[0m\n\u001b[0;32m--> 832\u001b[0;31m         \u001b[0;32mreturn\u001b[0m \u001b[0mgcf\u001b[0m\u001b[0;34m(\u001b[0m\u001b[0;34m)\u001b[0m\u001b[0;34m.\u001b[0m\u001b[0madd_axes\u001b[0m\u001b[0;34m(\u001b[0m\u001b[0marg\u001b[0m\u001b[0;34m,\u001b[0m \u001b[0;34m**\u001b[0m\u001b[0mkwargs\u001b[0m\u001b[0;34m)\u001b[0m\u001b[0;34m\u001b[0m\u001b[0;34m\u001b[0m\u001b[0m\n\u001b[0m\u001b[1;32m    833\u001b[0m \u001b[0;34m\u001b[0m\u001b[0m\n\u001b[1;32m    834\u001b[0m \u001b[0;34m\u001b[0m\u001b[0m\n",
      "\u001b[0;32m/home/anaconda3/envs/py37_covidenv/lib/python3.7/site-packages/matplotlib/figure.py\u001b[0m in \u001b[0;36madd_axes\u001b[0;34m(self, *args, **kwargs)\u001b[0m\n\u001b[1;32m   1239\u001b[0m         \u001b[0;32melse\u001b[0m\u001b[0;34m:\u001b[0m\u001b[0;34m\u001b[0m\u001b[0;34m\u001b[0m\u001b[0m\n\u001b[1;32m   1240\u001b[0m             \u001b[0mrect\u001b[0m \u001b[0;34m=\u001b[0m \u001b[0margs\u001b[0m\u001b[0;34m[\u001b[0m\u001b[0;36m0\u001b[0m\u001b[0;34m]\u001b[0m\u001b[0;34m\u001b[0m\u001b[0;34m\u001b[0m\u001b[0m\n\u001b[0;32m-> 1241\u001b[0;31m             \u001b[0;32mif\u001b[0m \u001b[0;32mnot\u001b[0m \u001b[0mnp\u001b[0m\u001b[0;34m.\u001b[0m\u001b[0misfinite\u001b[0m\u001b[0;34m(\u001b[0m\u001b[0mrect\u001b[0m\u001b[0;34m)\u001b[0m\u001b[0;34m.\u001b[0m\u001b[0mall\u001b[0m\u001b[0;34m(\u001b[0m\u001b[0;34m)\u001b[0m\u001b[0;34m:\u001b[0m\u001b[0;34m\u001b[0m\u001b[0;34m\u001b[0m\u001b[0m\n\u001b[0m\u001b[1;32m   1242\u001b[0m                 raise ValueError('all entries in rect must be finite '\n\u001b[1;32m   1243\u001b[0m                                  'not {}'.format(rect))\n",
      "\u001b[0;31mTypeError\u001b[0m: ufunc 'isfinite' not supported for the input types, and the inputs could not be safely coerced to any supported types according to the casting rule ''safe''"
     ]
    },
    {
     "data": {
      "image/png": "[encoded data removed]",
      "text/plain": [
       "<Figure size 1152x720 with 1 Axes>"
      ]
     },
     "metadata": {
      "needs_background": "light"
     },
     "output_type": "display_data"
    }
   ],
   "source": [
    "map_plot(df=total,col='total_county')"
   ]
  },
  {
   "cell_type": "markdown",
   "metadata": {},
   "source": [
    "### Total Healed"
   ]
  },
  {
   "cell_type": "code",
   "execution_count": null,
   "metadata": {},
   "outputs": [],
   "source": [
    "col='total_healed'\n",
    "map_plot(df=total,col='total_county')"
   ]
  },
  {
   "cell_type": "markdown",
   "metadata": {},
   "source": [
    "### Total Dead"
   ]
  },
  {
   "cell_type": "code",
   "execution_count": null,
   "metadata": {},
   "outputs": [],
   "source": [
    "map_plot(df=total,col='total_dead')"
   ]
  },
  {
   "cell_type": "code",
   "execution_count": null,
   "metadata": {},
   "outputs": [],
   "source": [
    "total.plot(figsize=(16,16), column='total_healed',legend=True,cmap='Blues',legend_kwds={'label': \"DeaD COVID19 by County\",\n",
    "                         'orientation': \"horizontal\"})"
   ]
  },
  {
   "cell_type": "code",
   "execution_count": null,
   "metadata": {},
   "outputs": [],
   "source": [
    "fig = ff.create_table(df1[df1.columns[1:]])\n",
    "fig.show()"
   ]
  },
  {
   "cell_type": "markdown",
   "metadata": {},
   "source": [
    "### Stats of the day\n"
   ]
  },
  {
   "cell_type": "code",
   "execution_count": null,
   "metadata": {},
   "outputs": [],
   "source": [
    "stats=df1.describe()\n",
    "stats.drop(index='count',inplace=True)\n",
    "stats.reset_index(inplace=True)\n",
    "stats.columns=['stats','total_county','total_healed','total_dead']\n",
    "\n",
    "fig = ff.create_table(stats)\n",
    "fig.show()"
   ]
  },
  {
   "cell_type": "code",
   "execution_count": null,
   "metadata": {},
   "outputs": [],
   "source": []
  }
 ],
 "metadata": {
  "hide_input": false,
  "kernelspec": {
   "display_name": "Python 3",
   "language": "python",
   "name": "python3"
  },
  "language_info": {
   "codemirror_mode": {
    "name": "ipython",
    "version": 3
   },
   "file_extension": ".py",
   "mimetype": "text/x-python",
   "name": "python",
   "nbconvert_exporter": "python",
   "pygments_lexer": "ipython3",
   "version": "3.7.6"
  }
 },
 "nbformat": 4,
 "nbformat_minor": 4
}
